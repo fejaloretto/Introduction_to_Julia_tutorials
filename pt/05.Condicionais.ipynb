{
 "cells": [
  {
   "cell_type": "markdown",
   "metadata": {
    "collapsed": true
   },
   "source": [
    "# Condicionais\n",
    "\n",
    "#### Usando a palavra chave `if`\n",
    "Em Julia, a sintaxe\n",
    "\n",
    "```julia\n",
    "if *condição 1*\n",
    "    *opção 1*\n",
    "elseif *condição 2*\n",
    "    *opção 2*\n",
    "else\n",
    "    *opção 3*\n",
    "end\n",
    "```\n",
    "\n",
    "isso nos permite a avaliar de maneira condicional uma das nossas opções.\n",
    "<br><br>\n",
    "Por exemplo, podemos querer implementar o teste FizzBuzz: dados um número, N, imprimir \"Fizz\" se N é divisível por 3, \"Byzz\" se for divisível por 5 e \"FizzBuzz\" se for divisível por 3 e 5. Caso contrário, imprimir o próprio número! Defina a sua escolha para `N` aqui:"
   ]
  },
  {
   "cell_type": "code",
   "execution_count": null,
   "metadata": {},
   "outputs": [],
   "source": [
    "N = "
   ]
  },
  {
   "cell_type": "code",
   "execution_count": null,
   "metadata": {},
   "outputs": [],
   "source": [
    "if (N % 3 == 0) && (N % 5 == 0) # `&&` signifgica \"E\"; % calcula os resto após a divisão\n",
    "    println(\"FizzBuzz\")\n",
    "elseif N % 3 == 0\n",
    "    println(\"Fizz\")\n",
    "elseif N % 5 == 0\n",
    "    println(\"Buzz\")\n",
    "else\n",
    "    println(N)\n",
    "end"
   ]
  },
  {
   "cell_type": "markdown",
   "metadata": {},
   "source": [
    "#### usando operador ternário\n",
    "\n",
    "Pode-se usar o operador ternário com a sintaxe\n",
    "\n",
    "```julia\n",
    "a ? b : c\n",
    "```\n",
    "\n",
    "que é equivalente a\n",
    "\n",
    "```julia\n",
    "if a\n",
    "    b\n",
    "else\n",
    "    c\n",
    "end\n",
    "```"
   ]
  },
  {
   "cell_type": "markdown",
   "metadata": {},
   "source": [
    "Suponhamos que desejamos saber qual o maior de dois números. Dados os valores `x` e `y` a seguir:"
   ]
  },
  {
   "cell_type": "code",
   "execution_count": null,
   "metadata": {},
   "outputs": [],
   "source": [
    "x =\n",
    "y ="
   ]
  },
  {
   "cell_type": "markdown",
   "metadata": {},
   "source": [
    "Usando as palavras chave `if` e `else`, pode-se escrever:"
   ]
  },
  {
   "cell_type": "code",
   "execution_count": null,
   "metadata": {},
   "outputs": [],
   "source": [
    "if x > y\n",
    "    x\n",
    "else\n",
    "    y\n",
    "end"
   ]
  },
  {
   "cell_type": "markdown",
   "metadata": {},
   "source": [
    "usando o operador ternário, este condicional toma a seguinte forma:"
   ]
  },
  {
   "cell_type": "code",
   "execution_count": null,
   "metadata": {},
   "outputs": [],
   "source": [
    "(x > y) ? x : y"
   ]
  },
  {
   "cell_type": "markdown",
   "metadata": {},
   "source": [
    "#### Usando avaliação curto-circuito (short-circuit evaluation)\n",
    "\n",
    "Já vimos expressões com a sintaxe \n",
    "```julia\n",
    "a && b\n",
    "```\n",
    "\n",
    "para returnar `true` (verdadeiro) se ambos `a` e `b` são verdadeiros (`true`). Lógico que se `a` is `false` (falso), Julia não precisa nem saber o valor de `b` para saber que o valor da expressão acima é `false`. Assim, Julia não precisa nem mesmo checar o que `b` é; pode simplesmente usar um \"curto circuito\" e retornar imediatamente o valor `false`.  O segundo argumento `b` pode ser uma expressão mais complicada como uma chamada de função com efeito colateral que neste caso não será chamado:"
   ]
  },
  {
   "cell_type": "code",
   "execution_count": null,
   "metadata": {},
   "outputs": [],
   "source": [
    "false && (println(\"hi\"); true)"
   ]
  },
  {
   "cell_type": "code",
   "execution_count": null,
   "metadata": {},
   "outputs": [],
   "source": [
    "true && (println(\"hi\"); true)"
   ]
  },
  {
   "cell_type": "markdown",
   "metadata": {},
   "source": [
    "Por outro lado, se `a` é verdadeiro, Julia sabe que pode simplesmente retornar o valor de `b` como valor da expressão original total. Isso significa que `b` não precisa necessariamente retornar o valor `true` ou `false`. Pode até mesmo ser um erro:"
   ]
  },
  {
   "cell_type": "code",
   "execution_count": null,
   "metadata": {},
   "outputs": [],
   "source": [
    "(x > 0) && error(\"x não pode ser maior que 0\")"
   ]
  },
  {
   "cell_type": "markdown",
   "metadata": {},
   "source": [
    "Algo semelhante ocorre com o operador `||`, que também usa o curto-circuito para executar a operação \"ou\"."
   ]
  },
  {
   "cell_type": "code",
   "execution_count": null,
   "metadata": {},
   "outputs": [],
   "source": [
    "true || println(\"hi\")"
   ]
  },
  {
   "cell_type": "markdown",
   "metadata": {},
   "source": [
    "e"
   ]
  },
  {
   "cell_type": "code",
   "execution_count": null,
   "metadata": {},
   "outputs": [],
   "source": [
    "false || println(\"hi\")"
   ]
  },
  {
   "cell_type": "markdown",
   "metadata": {
    "collapsed": true
   },
   "source": [
    "### Exercícios\n",
    "\n",
    "#### 5.1 \n",
    "Escreve um comando condicional que escreve \"par\" se o número é par e \"ímpar\" se o número é ímpar."
   ]
  },
  {
   "cell_type": "code",
   "execution_count": null,
   "metadata": {},
   "outputs": [],
   "source": []
  },
  {
   "cell_type": "markdown",
   "metadata": {},
   "source": [
    "#### 5.2 \n",
    "Repita o exercício anterior utilizando o operador ternário."
   ]
  },
  {
   "cell_type": "code",
   "execution_count": null,
   "metadata": {},
   "outputs": [],
   "source": []
  }
 ],
 "metadata": {
  "kernelspec": {
   "display_name": "Julia 1.4.0",
   "language": "julia",
   "name": "julia-1.4"
  },
  "language_info": {
   "file_extension": ".jl",
   "mimetype": "application/julia",
   "name": "julia",
   "version": "1.0.0"
  }
 },
 "nbformat": 4,
 "nbformat_minor": 2
}
