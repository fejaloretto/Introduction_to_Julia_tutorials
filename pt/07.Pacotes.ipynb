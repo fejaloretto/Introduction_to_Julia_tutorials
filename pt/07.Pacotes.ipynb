{
 "cells": [
  {
   "cell_type": "markdown",
   "metadata": {
    "collapsed": true
   },
   "source": [
    "# Pacotes (Packages)\n",
    "\n",
    "\n",
    "Julia tem mais que 2000 pacotes registrados, o que torna os pacotes uma parte essencial do ecossistema da Julia.\n",
    "\n",
    "Ainda assim, o ecossistema de pacotes ainda precisa amadurecer mais. Importante são pacotes que permitem chamar funções em outras linguagens. Este pacotes fornecem interfaces de funções externas (_foreign function interfaces_) excelentes. Em particular cabe destacar os pacotes `PyCall` e `Rcall` que permitem chamar funções em python e R de maneira simples.\n",
    "\n",
    "Isto significa que você não precisa esperar que o ecossistema da Julia seja completo para começar a trabalhar com Julia. E isso também significa que você precisa abandonar seu pacote/biblioteca favorito implementado em outra linguagem!\n",
    "\n",
    "Para ver os pacotes disponíveis, visite\n",
    "\n",
    "https://pkg.julialang.org/\n",
    "ou\n",
    "https://juliaobserver.com/\n",
    "\n",
    "Vamos ver como utilizar um pacote"
   ]
  },
  {
   "cell_type": "markdown",
   "metadata": {},
   "source": [
    "Na primeira vez que você usa um pacote, você precisa avisar explicitamente ao gerenciador de pacotes que adicione o pacote em questão:"
   ]
  },
  {
   "cell_type": "code",
   "execution_count": null,
   "metadata": {},
   "outputs": [],
   "source": [
    "using Pkg\n",
    "Pkg.add(\"Example\")"
   ]
  },
  {
   "cell_type": "markdown",
   "metadata": {},
   "source": [
    "Toda vez que você utiliza Julia (começa uma nova sessão no REPL ou abre um notebook por exemplo), você carrega o pacote com a palavra chave `using`"
   ]
  },
  {
   "cell_type": "code",
   "execution_count": null,
   "metadata": {},
   "outputs": [],
   "source": [
    "using Example"
   ]
  },
  {
   "cell_type": "markdown",
   "metadata": {},
   "source": [
    "No código fonte de  `Example.jl` localizado em \n",
    "https://github.com/JuliaLang/Example.jl/blob/master/src/Example.jl\n",
    "vemos a declaração da seguinte função\n",
    "\n",
    "```\n",
    "hello(who::String) = \"Hello, $who\"\n",
    "```\n",
    "\n",
    "Após carregar `Example`, podemos chamar a função `hello`"
   ]
  },
  {
   "cell_type": "code",
   "execution_count": null,
   "metadata": {},
   "outputs": [],
   "source": [
    "hello(\"it's me. I was wondering if after all these years you'd like to meet.\")"
   ]
  },
  {
   "cell_type": "markdown",
   "metadata": {},
   "source": [
    "Vamos brincar com o pacote `Colors`"
   ]
  },
  {
   "cell_type": "code",
   "execution_count": null,
   "metadata": {},
   "outputs": [],
   "source": [
    "Pkg.add(\"Colors\")"
   ]
  },
  {
   "cell_type": "code",
   "execution_count": null,
   "metadata": {},
   "outputs": [],
   "source": [
    "using Colors"
   ]
  },
  {
   "cell_type": "markdown",
   "metadata": {},
   "source": [
    "Vamos criar uma paleta com 100 cores distintas"
   ]
  },
  {
   "cell_type": "code",
   "execution_count": null,
   "metadata": {},
   "outputs": [],
   "source": [
    "palette = distinguishable_colors(100)"
   ]
  },
  {
   "cell_type": "markdown",
   "metadata": {},
   "source": [
    "Agora podemos criar uma matriz com cores aleatórias usando o comando `rand`"
   ]
  },
  {
   "cell_type": "code",
   "execution_count": null,
   "metadata": {},
   "outputs": [],
   "source": [
    "rand(palette, 3, 3)"
   ]
  },
  {
   "cell_type": "markdown",
   "metadata": {},
   "source": [
    "No próximo notebook, vamos usar um novo pacote para plotar dados."
   ]
  },
  {
   "cell_type": "markdown",
   "metadata": {},
   "source": [
    "### Exercícios\n",
    "\n",
    "#### 7.1 \n",
    "Carregue o pacote `Primes`(código fonte em https://github.com/JuliaMath/Primes.jl)."
   ]
  },
  {
   "cell_type": "code",
   "execution_count": null,
   "metadata": {},
   "outputs": [],
   "source": []
  },
  {
   "cell_type": "markdown",
   "metadata": {},
   "source": [
    "#### 7.2 \n",
    "Verifique que você pode usar a função `primes` para encontrar todos os números primos inferiores a 1,000,000."
   ]
  },
  {
   "cell_type": "code",
   "execution_count": null,
   "metadata": {},
   "outputs": [],
   "source": []
  }
 ],
 "metadata": {
  "@webio": {
   "lastCommId": null,
   "lastKernelId": null
  },
  "kernelspec": {
   "display_name": "Julia 1.4.0",
   "language": "julia",
   "name": "julia-1.4"
  },
  "language_info": {
   "file_extension": ".jl",
   "mimetype": "application/julia",
   "name": "julia",
   "version": "1.0.0"
  }
 },
 "nbformat": 4,
 "nbformat_minor": 2
}
