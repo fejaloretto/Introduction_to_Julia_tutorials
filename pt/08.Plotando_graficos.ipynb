{
 "cells": [
  {
   "cell_type": "markdown",
   "metadata": {},
   "source": [
    "# Plotando gráficos\n",
    "\n",
    "## O básico\n",
    "\n",
    "Existem algumas maneiras diferentes de plotar um gráfico em Julia (incluindo chamar `PyPlot`). <br>\n",
    "\n",
    "Aqui nós veremos o pacote  `Plots.jl`.  Se não estiver instalado ainda, você precisa usar o gerenciador de pacote para instalá-lo e Julia vai pré-compilar para você na primeira vez que você usá-lo:"
   ]
  },
  {
   "cell_type": "code",
   "execution_count": null,
   "metadata": {},
   "outputs": [],
   "source": [
    "# using Pkg\n",
    "# Pkg.add(\"Plots\")\n",
    "using Plots"
   ]
  },
  {
   "cell_type": "markdown",
   "metadata": {},
   "source": [
    "Uma das vantagens de usar  `Plots.jl` é que você pode trocar facilmente os _backends_. Neste notebook, vamos usar os backends `gr()` e `plotlyjs()`.<br>\n",
    "\n",
    "Em nome da pesquisa científica, vamos usar este notebook para examinar a relação entre temperatura global e número de piratas entre 1860 e 2000."
   ]
  },
  {
   "cell_type": "code",
   "execution_count": null,
   "metadata": {},
   "outputs": [],
   "source": [
    "globaltemperatures = [14.4, 14.5, 14.8, 15.2, 15.5, 15.8]\n",
    "numpirates = [45000, 20000, 15000, 5000, 400, 17];"
   ]
  },
  {
   "cell_type": "markdown",
   "metadata": {},
   "source": [
    "Plots pode usar diferentes backends — ieto é, bibliotecas que vão de fato desenhar algo — todos usando a mesma API (_Application Programing Interface_). Para começar, vamos usar o backend GR.  Você o escolhe chamando a função  `gr()`:"
   ]
  },
  {
   "cell_type": "code",
   "execution_count": null,
   "metadata": {},
   "outputs": [],
   "source": [
    "gr()"
   ]
  },
  {
   "cell_type": "markdown",
   "metadata": {},
   "source": [
    "e agora, comandos como `plot` e `scatter` podem ser usados para criar gráficos."
   ]
  },
  {
   "cell_type": "code",
   "execution_count": null,
   "metadata": {},
   "outputs": [],
   "source": [
    "plot(numpirates, globaltemperatures, label=\"line\")  \n",
    "scatter!(numpirates, globaltemperatures, label=\"points\") "
   ]
  },
  {
   "cell_type": "markdown",
   "metadata": {},
   "source": [
    "O `!` ao final da função `scatter!` quer dizer que a função `scatter!` muda as entradas, indicando que os pontos serão adicionados a uma gráfico já existente.\n",
    "\n",
    "Em contraste, veja o que ocorre quando você substitui `scatter!` acima pela função que não causa mudanças `scatter`.\n",
    "\n",
    "A seguir, vamos adicionar algumas informações ao gráfico com os comandos  `xlabel!`, `ylabel!`, e `title!`."
   ]
  },
  {
   "cell_type": "code",
   "execution_count": null,
   "metadata": {},
   "outputs": [],
   "source": [
    "xlabel!(\"Number of Pirates [Approximate]\")\n",
    "ylabel!(\"Global Temperature (C)\")\n",
    "title!(\"Influence of pirate population on global warming\")"
   ]
  },
  {
   "cell_type": "markdown",
   "metadata": {},
   "source": [
    "Isso ainda não está legal. O número de piratas diminui desde 1860, então, ler o gráfico da esquerda para a direita é como olhar para o passado ao invés do futuro. Vamos inverter o eixo x para ver o como a população de piratas causou a temperatura global a aumentar com o tempo!"
   ]
  },
  {
   "cell_type": "code",
   "execution_count": null,
   "metadata": {},
   "outputs": [],
   "source": [
    "xflip!()"
   ]
  },
  {
   "cell_type": "markdown",
   "metadata": {},
   "source": [
    "E aqui temos!\n",
    "\n",
    "Observação: este exercício gerou alguma confusão. :) Isto é uma piada!\n",
    "\n",
    "**Sem mudar a sintaxe, podemos criar este gráfico usando caracteres Unicode com o backend UnicodePlots**"
   ]
  },
  {
   "cell_type": "code",
   "execution_count": null,
   "metadata": {},
   "outputs": [],
   "source": [
    "Pkg.add(\"UnicodePlots\")\n",
    "unicodeplots()"
   ]
  },
  {
   "cell_type": "code",
   "execution_count": null,
   "metadata": {},
   "outputs": [],
   "source": [
    "plot(numpirates, globaltemperatures, label=\"line\")  \n",
    "scatter!(numpirates, globaltemperatures, label=\"points\") \n",
    "xlabel!(\"Number of Pirates [Approximate]\")\n",
    "ylabel!(\"Global Temperature (C)\")\n",
    "title!(\"Influence of pirate population on global warming\")"
   ]
  },
  {
   "cell_type": "markdown",
   "metadata": {
    "collapsed": true
   },
   "source": [
    "Veja como o segundo gráfico difere do original. Usando texto assim parece besteira em um notebook Jupyter onde os recursos gráficos são amplos mas pode ser muito útil em um terminal remoto."
   ]
  },
  {
   "cell_type": "markdown",
   "metadata": {
    "collapsed": true
   },
   "source": [
    "### Exercícios\n",
    "\n",
    "#### 8.1 \n",
    "Dado\n",
    "```julia\n",
    "x = -10:10\n",
    "```\n",
    "plote y vs. x para $y = x^2$.  Você pode tentart mudar os backends novamente."
   ]
  },
  {
   "cell_type": "code",
   "execution_count": null,
   "metadata": {},
   "outputs": [],
   "source": []
  },
  {
   "cell_type": "markdown",
   "metadata": {},
   "source": [
    "#### 8.2 \n",
    "Execute o código a seguir"
   ]
  },
  {
   "cell_type": "code",
   "execution_count": null,
   "metadata": {},
   "outputs": [],
   "source": [
    "p1 = plot(x, x)\n",
    "p2 = plot(x, x.^2)\n",
    "p3 = plot(x, x.^3)\n",
    "p4 = plot(x, x.^4)\n",
    "plot(p1, p2, p3, p4, layout = (2, 2), legend = false)"
   ]
  },
  {
   "cell_type": "markdown",
   "metadata": {},
   "source": [
    "e então crie um gráfico $4x1$ que usa `p1`, `p2`, `p3`, e `p4` como sub-gráficos."
   ]
  },
  {
   "cell_type": "code",
   "execution_count": null,
   "metadata": {},
   "outputs": [],
   "source": []
  }
 ],
 "metadata": {
  "anaconda-cloud": {},
  "kernelspec": {
   "display_name": "Julia 1.4.0",
   "language": "julia",
   "name": "julia-1.4"
  },
  "language_info": {
   "file_extension": ".jl",
   "mimetype": "application/julia",
   "name": "julia",
   "version": "1.4.0"
  },
  "toc": {
   "nav_menu": {
    "height": "66px",
    "width": "252px"
   },
   "navigate_menu": true,
   "number_sections": true,
   "sideBar": true,
   "threshold": "2",
   "toc_cell": false,
   "toc_section_display": "block",
   "toc_window_display": false
  }
 },
 "nbformat": 4,
 "nbformat_minor": 2
}
