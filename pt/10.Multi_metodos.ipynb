{
 "cells": [
  {
   "cell_type": "markdown",
   "metadata": {},
   "source": [
    "# Multi-métodos ou despacho multiplo (multiple dispatch)"
   ]
  },
  {
   "cell_type": "markdown",
   "metadata": {},
   "source": [
    "Neste notebook vamos explorar o conceito de **multiple dispatch** - despacho multiplo ou multi métodos, que é uma característica fundamental de programação em Julia.\n",
    "\n",
    "Multiple dispatch torna o software *genérico* and *rápido*!\n",
    "\n",
    "#### Começando com algo familar\n",
    "\n",
    "Para entender multiple dispatch em Julia, comecemos com algo que já vimos.\n",
    "\n",
    "Podemos criar funções em Julia sem fornecer qualquer tipo de informação sobre os tipos dos argumentos que a função recebe:"
   ]
  },
  {
   "cell_type": "code",
   "execution_count": null,
   "metadata": {},
   "outputs": [],
   "source": [
    "f(x) = x^2"
   ]
  },
  {
   "cell_type": "markdown",
   "metadata": {},
   "source": [
    "e então Julia determina sozinha que tipos de argumentos fazem sentido ou não:"
   ]
  },
  {
   "cell_type": "code",
   "execution_count": null,
   "metadata": {},
   "outputs": [],
   "source": [
    "f(10)"
   ]
  },
  {
   "cell_type": "code",
   "execution_count": null,
   "metadata": {},
   "outputs": [],
   "source": [
    "f([1, 2, 3])"
   ]
  },
  {
   "cell_type": "markdown",
   "metadata": {},
   "source": [
    "#### Especificando os tipos dos argumentos de entrada\n",
    "\n",
    "No entanto, também existe a *possibilidade* de informar a Julia que tipos de argumentos são permitidos.\n",
    "\n",
    "Como exemplo, seja a função  `foo` que aceita apenas strings como entrada."
   ]
  },
  {
   "cell_type": "code",
   "execution_count": null,
   "metadata": {},
   "outputs": [],
   "source": [
    "foo(x::String, y::String) = println(\"As entradas  x e y são ambas strings!\")"
   ]
  },
  {
   "cell_type": "markdown",
   "metadata": {},
   "source": [
    "Vemos que para restringir o tipo de `x` e `y` a `String`s, basta usar dois pontos duplo após o nome do argumento seguido de `String`.\n",
    "\n",
    "Agora, a função `foo` funciona com `String`s mas não com qualquer outro tipo de argumento."
   ]
  },
  {
   "cell_type": "code",
   "execution_count": null,
   "metadata": {},
   "outputs": [],
   "source": [
    "foo(\"hello\", \"hi!\")"
   ]
  },
  {
   "cell_type": "code",
   "execution_count": null,
   "metadata": {},
   "outputs": [],
   "source": [
    "foo(3, 4)"
   ]
  },
  {
   "cell_type": "markdown",
   "metadata": {},
   "source": [
    "Parq que `foo` funcione com inteiros (`Int`), vamos colocar `::Int` nos argumentos de entrada quando declaramos `foo`."
   ]
  },
  {
   "cell_type": "code",
   "execution_count": null,
   "metadata": {},
   "outputs": [],
   "source": [
    "foo(x::Int, y::Int) = println(\"As entradas  x e y são ambas inteiras!\")"
   ]
  },
  {
   "cell_type": "code",
   "execution_count": null,
   "metadata": {},
   "outputs": [],
   "source": [
    "foo(3, 4)"
   ]
  },
  {
   "cell_type": "markdown",
   "metadata": {},
   "source": [
    "Agora `foo` funciona com inteiros! Mas veja, `foo` continua funcionando quando `x` e `y` são strings!"
   ]
  },
  {
   "cell_type": "code",
   "execution_count": null,
   "metadata": {},
   "outputs": [],
   "source": [
    "foo(\"hello\", \"hi!\")"
   ]
  },
  {
   "cell_type": "markdown",
   "metadata": {},
   "source": [
    "Estamos chegando ao coração do despacho múltiplo. Quando declaramos \n",
    "\n",
    "```julia\n",
    "foo(x::Int, y::Int) = println(\"As entradas  x e y são ambas inteiras!\")\n",
    "```\n",
    "não sobreescrevemos \n",
    "```julia\n",
    "foo(y::String, y::String)```\n",
    "\n",
    "O que fizemos foi adicionar um novo ***método*** à ***função genérica*** chamada `foo`.\n",
    "\n",
    "Uma ***função genérica*** é o conceito abstrato associado com uma operação específica.\n",
    "\n",
    "Como exemplo, a função genérica  `+` representa o conceito de adição.\n",
    "\n",
    "Um ***método*** é a implementação específica de uma função genérica para *tipos específicos de argumentos*.\n",
    "\n",
    "Por exemplo, `+` tem métodos que aceitam números de ponto flutuante, inteiros, matrizes, etc\n",
    "\n",
    "Podemos usar a função `methods` para ver quais os métodos disponíveis para a função genérica `foo`."
   ]
  },
  {
   "cell_type": "code",
   "execution_count": null,
   "metadata": {},
   "outputs": [],
   "source": [
    "methods(foo)"
   ]
  },
  {
   "cell_type": "markdown",
   "metadata": {},
   "source": [
    "Curiosidade: quantos métodos você acha que existem para a adição?"
   ]
  },
  {
   "cell_type": "code",
   "execution_count": null,
   "metadata": {},
   "outputs": [],
   "source": [
    "methods(+)"
   ]
  },
  {
   "cell_type": "markdown",
   "metadata": {},
   "source": [
    "Então, agora podemos chamar `foo` com inteiros e trings. Quando você chama  `foo` com um conjunto particular de argumentos, Julia vai inferir os tipos das entradas e despachar o método específico apropriado. *Isto* é despacho múltiplo.\n",
    "\n",
    "Despacho múltiplo torna o nosso código genérico e rápido. Nosso código pode ser genérico e flexível porque podemos escrever código em termos de operações abstratas como adição e multiplicação ao invés de implementações específicas. Ao mesmo tempo, o código é rápido porque Julia pode chamar métodos eficientes para os tipos relevantes.\n",
    "\n",
    "Para saber qual método específico está sendo despachado quando chamamos uma função genérica, podemos usas a macro `@which`:"
   ]
  },
  {
   "cell_type": "code",
   "execution_count": null,
   "metadata": {},
   "outputs": [],
   "source": [
    "@which foo(3, 4)"
   ]
  },
  {
   "cell_type": "markdown",
   "metadata": {},
   "source": [
    "Vejamos o que acontece quando usamos `@which` com o operador de adição!"
   ]
  },
  {
   "cell_type": "code",
   "execution_count": null,
   "metadata": {},
   "outputs": [],
   "source": [
    "@which 3.0 + 3.0"
   ]
  },
  {
   "cell_type": "markdown",
   "metadata": {},
   "source": [
    "Podemos continuar adicionando métodos para a nossa função genérica `foo`. Podemos até mesmo adicionar um método que aceita o ***tipo abstrato*** `Number`, que inclui subtipos como `Int`, `Float64` e outros objetos que podemos pensar que sejam como números:"
   ]
  },
  {
   "cell_type": "code",
   "execution_count": null,
   "metadata": {},
   "outputs": [],
   "source": [
    "foo(x::Number, y::Number) = println(\"Minhas entradas x e y são ambas números!\")"
   ]
  },
  {
   "cell_type": "markdown",
   "metadata": {},
   "source": [
    "Este método de `foo` funciona, por exemplo, com números de ponto flutuante:"
   ]
  },
  {
   "cell_type": "code",
   "execution_count": null,
   "metadata": {},
   "outputs": [],
   "source": [
    "foo(3.0, 4.0)"
   ]
  },
  {
   "cell_type": "markdown",
   "metadata": {},
   "source": [
    "Podemos criar um \"último recurso\", um método que usa \"duck-typing\" que aceita qualquer outro tipo de argumento:"
   ]
  },
  {
   "cell_type": "code",
   "execution_count": null,
   "metadata": {},
   "outputs": [],
   "source": [
    "foo(x, y) = println(\"I accept inputs of any type!\")"
   ]
  },
  {
   "cell_type": "markdown",
   "metadata": {},
   "source": [
    "Com os métodos já definidos para `foo`, este método será chamado quando passamos argumentos não numéricos a `foo`:"
   ]
  },
  {
   "cell_type": "code",
   "execution_count": null,
   "metadata": {},
   "outputs": [],
   "source": [
    "v = rand(3)\n",
    "foo(v, v)"
   ]
  },
  {
   "cell_type": "markdown",
   "metadata": {
    "collapsed": true
   },
   "source": [
    "### Exercícios\n",
    "\n",
    "#### 9.1\n",
    "\n",
    "Extenda a função `foo`, adicionando um método que aceita exatamente um único argumento que tem tipo `Bool` e imprime \"foo com um booleano!\""
   ]
  },
  {
   "cell_type": "code",
   "execution_count": null,
   "metadata": {},
   "outputs": [],
   "source": []
  },
  {
   "cell_type": "markdown",
   "metadata": {},
   "source": [
    "#### 9.2\n",
    "\n",
    "Verifique que o método sendo despachado quando você executa\n",
    "```julia\n",
    "foo(true)\n",
    "```\n",
    "é o método que você escreveu."
   ]
  },
  {
   "cell_type": "code",
   "execution_count": null,
   "metadata": {},
   "outputs": [],
   "source": []
  }
 ],
 "metadata": {
  "anaconda-cloud": {},
  "kernelspec": {
   "display_name": "Julia 1.4.0",
   "language": "julia",
   "name": "julia-1.4"
  },
  "language": "Julia",
  "language_info": {
   "file_extension": ".jl",
   "mimetype": "application/julia",
   "name": "julia",
   "version": "1.0.0"
  },
  "toc": {
   "nav_menu": {
    "height": "119px",
    "width": "251px"
   },
   "navigate_menu": true,
   "number_sections": true,
   "sideBar": true,
   "threshold": "2",
   "toc_cell": false,
   "toc_section_display": "block",
   "toc_window_display": false
  }
 },
 "nbformat": 4,
 "nbformat_minor": 1
}
